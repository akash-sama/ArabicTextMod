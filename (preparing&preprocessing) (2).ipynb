{
  "nbformat": 4,
  "nbformat_minor": 0,
  "metadata": {
    "colab": {
      "name": "PHASE1(preparing&preprocessing).ipynb",
      "provenance": [],
      "collapsed_sections": []
    },
    "kernelspec": {
      "name": "python3",
      "display_name": "Python 3"
    },
    "language_info": {
      "name": "python"
    },
    "accelerator": "GPU"
  },
  "cells": [
    {
      "cell_type": "code",
      "source": [
        "#LIBRARIES\n",
        "from google.colab import files\n",
        "import pandas as pd\n",
        "import numpy as np\n",
        "import nltk\n",
        "import re\n",
        "from gensim.utils import simple_preprocess\n",
        "!pip install camel-tools\n",
        "from camel_tools.utils.dediac import dediac_ar\n",
        "from camel_tools.utils.normalize import normalize_alef_maksura_ar\n",
        "from camel_tools.utils.normalize import normalize_alef_ar\n",
        "from camel_tools.utils.normalize import normalize_teh_marbuta_ar"
      ],
      "metadata": {
        "id": "AV9ztqF8G5rp"
      },
      "execution_count": null,
      "outputs": []
    },
    {
      "cell_type": "code",
      "execution_count": null,
      "metadata": {
        "id": "Jt0cZnI1_fAF"
      },
      "outputs": [],
      "source": [
        "#upload the txt file \n",
        "#files.upload()  #NOTE: comment this line after running the cell\n",
        "\n",
        "#open dataset after uploading it to colab\n",
        "txtds = []\n",
        "with open(\"/content/OSACT2022-sharedTask-dev.txt\") as f:\n",
        "    txtds = f.readlines()"
      ]
    },
    {
      "cell_type": "code",
      "source": [
        "txtds[0]"
      ],
      "metadata": {
        "colab": {
          "base_uri": "https://localhost:8080/",
          "height": 35
        },
        "id": "S5eUS9KPLoiu",
        "outputId": "9688e11c-52b0-4243-8a82-70e45d150aea"
      },
      "execution_count": null,
      "outputs": [
        {
          "output_type": "execute_result",
          "data": {
            "text/plain": [
              "'8888\\t@USER افطرت عليك بعقاء واثنين من فروخها الجن 🔪😂\\tNOT_OFF\\tNOT_HS\\tNOT_VLG\\tNOT_VIO\\n'"
            ],
            "application/vnd.google.colaboratory.intrinsic+json": {
              "type": "string"
            }
          },
          "metadata": {},
          "execution_count": 21
        }
      ]
    },
    {
      "cell_type": "code",
      "source": [
        "ud = [\"\\t\",\"\\r\",\"\\n\",\"\\a\"]   #undesired characters\n",
        "files.upload()  #NOTE: comment this line after running the cell\n",
        "stopwords_list = []\n",
        "ads = []\n",
        "\n",
        "#open arabic stopwords list after uploading it to colab\n",
        "with open(\"/content/arstopwords.txt\") as f:\n",
        "    stopwords_list = f.readlines()"
      ],
      "metadata": {
        "id": "SIrgjslQR5nS"
      },
      "execution_count": null,
      "outputs": []
    },
    {
      "cell_type": "code",
      "source": [
        "#replace all undesired characters with space except EOL \\n replace it with NONE\n",
        "def replaceitem(x):\n",
        "  for i in range(len(ud)):\n",
        "    if ud[i] == \"\\n\":\n",
        "      x = x.replace(ud[i],'')\n",
        "    else:\n",
        "      x = x.replace(ud[i],' ')\n",
        "  return x\n",
        "\n",
        "\n",
        "#arrange all the tweets with their labels, all in one list\n",
        "def allInOne(x):\n",
        "  if x.find(\"NOT_OFF\") != -1:\n",
        "    idx = x.find(\"NOT_OFF\")\n",
        "    z = x[:idx-1].split()\n",
        "    artxt = ' '.join(z[1:])\n",
        "    ads.append(artxt)\n",
        "    labels = x[idx:].split()\n",
        "    for i in range(len(labels)):\n",
        "      ads.append(labels[i])\n",
        "    ads.append(';')\n",
        "  elif x.find(\"OFF\") != -1:\n",
        "    idx = x.find(\"OFF\")\n",
        "    z = x[:idx-1].split()\n",
        "    artxt = ' '.join(z[1:])\n",
        "    ads.append(artxt)\n",
        "    labels = x[idx:].split()\n",
        "    for i in range(len(labels)):\n",
        "      ads.append(labels[i])\n",
        "    ads.append(';')\n",
        "\n",
        "#reducing orthographic ambiguity by removing particular symbols from particular letters\n",
        "def ortho_normalize(text):\n",
        "    text = normalize_alef_maksura_ar(text)\n",
        "    text = normalize_alef_ar(text)\n",
        "    text = normalize_teh_marbuta_ar(text)\n",
        "    return text\n",
        "\n",
        "\n",
        "#clean tweets from any non-arabic letters after that we apply dediacritizating followed with orthographic normalization\n",
        "def cleanTweets(tweet):\n",
        "  tweet = re.findall(r\"[\\u0621-\\u064A]+\", tweet) #return a list of all the arabic words in the tweet\n",
        "  tweet = ' '.join(tweet) #concatenate items in the list to a single string\n",
        "  tweet = dediac_ar(tweet)\n",
        "  tweet = ortho_normalize(tweet)\n",
        "  return tweet\n",
        "\n",
        "\n",
        "#preprocess the tweets and convert the sentence into list of tokens\n",
        "def preprocess(text):\n",
        "    result=[]\n",
        "    for token in simple_preprocess(text) :\n",
        "        if token not in stopwords_list and len(token) > 2:\n",
        "            result.append(token)    \n",
        "    return result\n",
        "\n",
        "\n",
        "#take arranged list as an argument \n",
        "def listToCsv(liSt, ds_name):\n",
        "  #lists of columns in the dataset\n",
        "  labels_list = [\"OFF\", \"NOT_OFF\", \"HS1\", \"HS2\", \"HS3\", \"HS4\", \"HS5\", \"HS6\", \"NOT_HS\", \"VLG\", \"NOT_VLG\", \"VIO\", \"NOT_VIO\"]\n",
        "  fc = pd.DataFrame(index=np.arange(len(txtds)), columns=[\"Tweets\"])\n",
        "  rc = pd.DataFrame(0, index=np.arange(len(txtds)), columns=labels_list)\n",
        "  for i in range(len(txtds)):\n",
        "    fc[\"Tweets\"][i] = cleanTweets(liSt[i*6])\n",
        "    rc[liSt[(i*6)+1]][i] = 1\n",
        "    rc[liSt[(i*6)+2]][i] = 1\n",
        "    rc[liSt[(i*6)+3]][i] = 1\n",
        "    rc[liSt[(i*6)+4]][i] = 1\n",
        "\n",
        "  cls = [\"Tweets\"] + labels_list\n",
        "  csvds = pd.concat([fc, rc], axis=1, names=cls)\n",
        "  csvds.to_csv(ds_name +'.csv', index = False, header=True, encoding=\"utf-8-sig\")\n",
        "  files.download(ds_name +'.csv')"
      ],
      "metadata": {
        "id": "GP-_ovgISKTx"
      },
      "execution_count": null,
      "outputs": []
    },
    {
      "cell_type": "code",
      "source": [
        "#preparing our dataset to preprocess\n",
        "stopwords_list = list(map(replaceitem, stopwords_list))\n",
        "list(map(allInOne, list(map(replaceitem, txtds))))\n",
        "listToCsv(ads)"
      ],
      "metadata": {
        "colab": {
          "base_uri": "https://localhost:8080/",
          "height": 17
        },
        "id": "xj1rQZMuZJvG",
        "outputId": "33fec31a-124b-4034-ec82-080f2af89150"
      },
      "execution_count": null,
      "outputs": [
        {
          "output_type": "display_data",
          "data": {
            "text/plain": [
              "<IPython.core.display.Javascript object>"
            ],
            "application/javascript": [
              "\n",
              "    async function download(id, filename, size) {\n",
              "      if (!google.colab.kernel.accessAllowed) {\n",
              "        return;\n",
              "      }\n",
              "      const div = document.createElement('div');\n",
              "      const label = document.createElement('label');\n",
              "      label.textContent = `Downloading \"${filename}\": `;\n",
              "      div.appendChild(label);\n",
              "      const progress = document.createElement('progress');\n",
              "      progress.max = size;\n",
              "      div.appendChild(progress);\n",
              "      document.body.appendChild(div);\n",
              "\n",
              "      const buffers = [];\n",
              "      let downloaded = 0;\n",
              "\n",
              "      const channel = await google.colab.kernel.comms.open(id);\n",
              "      // Send a message to notify the kernel that we're ready.\n",
              "      channel.send({})\n",
              "\n",
              "      for await (const message of channel.messages) {\n",
              "        // Send a message to notify the kernel that we're ready.\n",
              "        channel.send({})\n",
              "        if (message.buffers) {\n",
              "          for (const buffer of message.buffers) {\n",
              "            buffers.push(buffer);\n",
              "            downloaded += buffer.byteLength;\n",
              "            progress.value = downloaded;\n",
              "          }\n",
              "        }\n",
              "      }\n",
              "      const blob = new Blob(buffers, {type: 'application/binary'});\n",
              "      const a = document.createElement('a');\n",
              "      a.href = window.URL.createObjectURL(blob);\n",
              "      a.download = filename;\n",
              "      div.appendChild(a);\n",
              "      a.click();\n",
              "      div.remove();\n",
              "    }\n",
              "  "
            ]
          },
          "metadata": {}
        },
        {
          "output_type": "display_data",
          "data": {
            "text/plain": [
              "<IPython.core.display.Javascript object>"
            ],
            "application/javascript": [
              "download(\"download_55ae89af-c636-48a7-8e4d-4d32859bdda5\", \"OSACT2022_dev set.csv\", 171146)"
            ]
          },
          "metadata": {}
        }
      ]
    },
    {
      "cell_type": "code",
      "source": [
        "d1 = pd.read_csv('/content/drive/MyDrive/datasets/1.csv')\n",
        "d2 = pd.read_csv('/content/drive/MyDrive/datasets/2.csv')\n",
        "d3 = pd.read_csv('/content/drive/MyDrive/datasets/3.csv')\n",
        "d4 = pd.read_csv('/content/drive/MyDrive/datasets/4.csv')\n",
        "d5 = pd.read_csv('/content/drive/MyDrive/datasets/5.csv')\n",
        "d6 = pd.read_csv('/content/drive/MyDrive/datasets/6.csv')\n",
        "d7 = pd.read_csv('/content/drive/MyDrive/datasets/7.csv')\n",
        "d8 = pd.read_csv('/content/drive/MyDrive/datasets/8.csv')\n",
        "osc = pd.read_csv('/content/drive/MyDrive/datasets/oscat5.csv')"
      ],
      "metadata": {
        "id": "2sOynsLSQXyf"
      },
      "execution_count": null,
      "outputs": []
    },
    {
      "cell_type": "code",
      "source": [
        "OFF = osc.drop(columns=['NOT_OFF', 'NOT_HS', 'HS', 'VLG', 'NOT_VLG', 'VIO', 'NOT_VIO',])\n",
        "HS = osc.drop(columns=['OFF', 'NOT_OFF', 'NOT_HS', 'VLG', 'NOT_VLG', 'VIO', 'NOT_VIO',])"
      ],
      "metadata": {
        "id": "dwSgfHLKMj0t"
      },
      "execution_count": null,
      "outputs": []
    },
    {
      "cell_type": "code",
      "source": [
        "for i in range(len(d1)):\n",
        "  if d1['OFF'][i] == '1':\n",
        "    OFF.loc[len(OFF.index)] = [cleanTweets(d1['tweet'][i]), 1]\n",
        "  if d1['HS_NOT_HS'][i] == 0:\n",
        "    HS.loc[len(HS.index)] = [cleanTweets(d1['tweet'][i]), 1]\n",
        "for i in range(len(d2)):\n",
        "  if d2['Offensive'][i] == 'OFF':\n",
        "    OFF.loc[len(OFF.index)] = [cleanTweets(d2['Tweet'][i]), 1]\n",
        "  if d2['Hate'][i] == 'HS':\n",
        "    HS.loc[len(HS.index)] = [cleanTweets(d2['Tweet'][i]), 1]\n",
        "for i in range(len(d3)):\n",
        "  if d3['Majority_Label'][i] == 'Offensive':\n",
        "    OFF.loc[len(OFF.index)] = [cleanTweets(d3['Comment'][i]), 1]\n",
        "for i in range(len(d4)):\n",
        "  if d4['Class'][i] == 'abusive':\n",
        "    OFF.loc[len(OFF.index)] = [cleanTweets(d4['Tweet'][i]), 1]\n",
        "  if d4['Class'][i] == 'hate':\n",
        "    HS.loc[len(HS.index)] = [cleanTweets(d4['Tweet'][i]), 1]\n",
        "for i in range(len(d5)):\n",
        "  if d5['Offensive'][i] == 'OFF':\n",
        "    OFF.loc[len(OFF.index)] = [cleanTweets(d5['Tweet'][i]), 1]\n",
        "  if d5['Hate'][i] == 'HS':\n",
        "    HS.loc[len(HS.index)] = [cleanTweets(d5['Tweet'][i]), 1]\n",
        "for i in range(len(d6)):\n",
        "  if d6['Offensive'][i] == 'OFF':\n",
        "    OFF.loc[len(OFF.index)] = [cleanTweets(d6['Tweet'][i]), 1]\n",
        "  if d6['Hate'][i] == 'HS':\n",
        "    HS.loc[len(HS.index)] = [cleanTweets(d6['Tweet'][i]), 1]\n",
        "for i in range(len(d7)):\n",
        "  if d7['Class'][i] == 'abusive':\n",
        "    OFF.loc[len(OFF.index)] = [cleanTweets(d7['Tweet'][i]), 1]\n",
        "  if d7['Class'][i] == 'hate':\n",
        "    HS.loc[len(HS.index)] = [cleanTweets(d7['Tweet'][i]), 1]\n",
        "for i in range(len(d8)):\n",
        "  if d8['hate'][i] == 1:\n",
        "    HS.loc[len(HS.index)] = [cleanTweets(d8['tweet'][i]), 1]"
      ],
      "metadata": {
        "id": "0e0eENFVMqoK"
      },
      "execution_count": null,
      "outputs": []
    },
    {
      "cell_type": "code",
      "source": [
        "vc = OFF['OFF'].value_counts()\n",
        "while(vc[0] < vc[1]):\n",
        "  \n",
        "  for i in range(len(d1)):\n",
        "    vc = OFF['OFF'].value_counts()\n",
        "    OFF.drop_duplicates(subset=['Tweets'], inplace = True)\n",
        "    if vc[0] < vc[1]:\n",
        "      if d1['OFF'][i] == '0':\n",
        "        OFF.loc[len(OFF.index)] = [cleanTweets(d1['tweet'][i]), 0]\n",
        "    else:\n",
        "      break\n",
        "  \n",
        "  for i in range(len(d2)):\n",
        "    vc = OFF['OFF'].value_counts()\n",
        "    OFF.drop_duplicates(subset=['Tweets'], inplace = True)\n",
        "    if vc[0] < vc[1]:\n",
        "      if d2['Offensive'][i] == 'NOT_OFF':\n",
        "        OFF.loc[len(OFF.index)] = [cleanTweets(d2['Tweet'][i]), 0]\n",
        "    else:\n",
        "      break\n",
        "\n",
        "  for i in range(len(d3)):\n",
        "    vc = OFF['OFF'].value_counts()\n",
        "    OFF.drop_duplicates(subset=['Tweets'], inplace = True)\n",
        "    if vc[0] < vc[1]:\n",
        "      if d3['Majority_Label'][i] == 'Non-Offensive':\n",
        "        OFF.loc[len(OFF.index)] = [cleanTweets(d3['Comment'][i]), 0]\n",
        "    else:\n",
        "      break\n",
        "\n",
        "  \n",
        "  for i in range(len(d4)):\n",
        "    vc = OFF['OFF'].value_counts()\n",
        "    OFF.drop_duplicates(subset=['Tweets'], inplace = True)\n",
        "    if vc[0] < vc[1]:\n",
        "      if d4['Class'][i] == 'normal':\n",
        "        OFF.loc[len(OFF.index)] = [cleanTweets(d4['Tweet'][i]), 0]\n",
        "    else:\n",
        "      break\n",
        "\n",
        "  for i in range(len(d5)):\n",
        "    vc = OFF['OFF'].value_counts()\n",
        "    OFF.drop_duplicates(subset=['Tweets'], inplace = True)\n",
        "    if vc[0] < vc[1]:\n",
        "      if d5['Offensive'][i] == 'NOT_OFF':\n",
        "        OFF.loc[len(OFF.index)] = [cleanTweets(d5['Tweet'][i]), 0]\n",
        "    else:\n",
        "      break\n",
        "\n",
        "  \n",
        "  for i in range(len(d6)):\n",
        "    vc = OFF['OFF'].value_counts()\n",
        "    OFF.drop_duplicates(subset=['Tweets'], inplace = True)\n",
        "    if vc[0] < vc[1]:\n",
        "      if d6['Offensive'][i] == 'NOT_OFF':\n",
        "        OFF.loc[len(OFF.index)] = [cleanTweets(d6['Tweet'][i]), 0]\n",
        "    else:\n",
        "      break\n",
        "\n",
        "  for i in range(len(d7)):\n",
        "    vc = OFF['OFF'].value_counts()\n",
        "    OFF.drop_duplicates(subset=['Tweets'], inplace = True)\n",
        "    if vc[0] < vc[1]:\n",
        "      if d7['Class'][i] == 'normal':\n",
        "        OFF.loc[len(OFF.index)] = [cleanTweets(d7['Tweet'][i]), 0]\n",
        "    else:\n",
        "      break"
      ],
      "metadata": {
        "id": "pzf6PEbb9Zba"
      },
      "execution_count": null,
      "outputs": []
    },
    {
      "cell_type": "code",
      "source": [
        "ss = HS['HS'].value_counts()\n",
        "while(ss[1] <= ss[0]):\n",
        "  ss = HS['HS'].value_counts()\n",
        "  drop_indices = np.random.choice(HS.index, 50, replace=False)\n",
        "  for i in drop_indices:\n",
        "    if(ss[1] <= ss[0]):\n",
        "      if HS['HS'][i] != 1:\n",
        "        HS.drop(i, inplace = True)\n",
        "    else:\n",
        "      break"
      ],
      "metadata": {
        "id": "AKu5a_OuIAG4"
      },
      "execution_count": null,
      "outputs": []
    },
    {
      "cell_type": "code",
      "source": [
        "import matplotlib.pyplot as plt\n",
        "OFF['OFF'].value_counts().plot(kind='bar')\n",
        "plt\n",
        "plt.show()"
      ],
      "metadata": {
        "id": "M72kLWCAdNj8",
        "colab": {
          "base_uri": "https://localhost:8080/",
          "height": 265
        },
        "outputId": "74d89772-84c1-4212-fd89-1ce190ede85c"
      },
      "execution_count": null,
      "outputs": [
        {
          "output_type": "display_data",
          "data": {
            "text/plain": [
              "<Figure size 432x288 with 1 Axes>"
            ],
            "image/png": "[encoded data removed]"
          },
          "metadata": {
            "needs_background": "light"
          }
        }
      ]
    },
    {
      "cell_type": "code",
      "source": [
        "OFF.isnull().values.any()"
      ],
      "metadata": {
        "colab": {
          "base_uri": "https://localhost:8080/"
        },
        "id": "TdF1eXgWOLAv",
        "outputId": "92c82f43-f417-442f-aef9-bb0fd0fe67ad"
      },
      "execution_count": null,
      "outputs": [
        {
          "output_type": "execute_result",
          "data": {
            "text/plain": [
              "False"
            ]
          },
          "metadata": {},
          "execution_count": 56
        }
      ]
    },
    {
      "cell_type": "code",
      "source": [
        "OFF.dropna(inplace=True)"
      ],
      "metadata": {
        "id": "waxt9TNZh_2-"
      },
      "execution_count": null,
      "outputs": []
    },
    {
      "cell_type": "code",
      "source": [
        "HS = HS.sample(frac=1, random_state=1).reset_index(drop=True)\n",
        "OFF = OFF.sample(frac=1, random_state=1).reset_index(drop=True)"
      ],
      "metadata": {
        "id": "szQ327acilAo"
      },
      "execution_count": null,
      "outputs": []
    },
    {
      "cell_type": "code",
      "source": [
        "HS.to_csv('HS-NOT_HS.csv', index = False, header=True, encoding=\"utf-8-sig\")\n",
        "files.download('HS-NOT_HS.csv')"
      ],
      "metadata": {
        "colab": {
          "base_uri": "https://localhost:8080/",
          "height": 17
        },
        "id": "SQE6aV7Hih9-",
        "outputId": "91b7b163-3775-4c17-8a2b-7f7d1b332560"
      },
      "execution_count": null,
      "outputs": [
        {
          "output_type": "display_data",
          "data": {
            "text/plain": [
              "<IPython.core.display.Javascript object>"
            ],
            "application/javascript": [
              "\n",
              "    async function download(id, filename, size) {\n",
              "      if (!google.colab.kernel.accessAllowed) {\n",
              "        return;\n",
              "      }\n",
              "      const div = document.createElement('div');\n",
              "      const label = document.createElement('label');\n",
              "      label.textContent = `Downloading \"${filename}\": `;\n",
              "      div.appendChild(label);\n",
              "      const progress = document.createElement('progress');\n",
              "      progress.max = size;\n",
              "      div.appendChild(progress);\n",
              "      document.body.appendChild(div);\n",
              "\n",
              "      const buffers = [];\n",
              "      let downloaded = 0;\n",
              "\n",
              "      const channel = await google.colab.kernel.comms.open(id);\n",
              "      // Send a message to notify the kernel that we're ready.\n",
              "      channel.send({})\n",
              "\n",
              "      for await (const message of channel.messages) {\n",
              "        // Send a message to notify the kernel that we're ready.\n",
              "        channel.send({})\n",
              "        if (message.buffers) {\n",
              "          for (const buffer of message.buffers) {\n",
              "            buffers.push(buffer);\n",
              "            downloaded += buffer.byteLength;\n",
              "            progress.value = downloaded;\n",
              "          }\n",
              "        }\n",
              "      }\n",
              "      const blob = new Blob(buffers, {type: 'application/binary'});\n",
              "      const a = document.createElement('a');\n",
              "      a.href = window.URL.createObjectURL(blob);\n",
              "      a.download = filename;\n",
              "      div.appendChild(a);\n",
              "      a.click();\n",
              "      div.remove();\n",
              "    }\n",
              "  "
            ]
          },
          "metadata": {}
        },
        {
          "output_type": "display_data",
          "data": {
            "text/plain": [
              "<IPython.core.display.Javascript object>"
            ],
            "application/javascript": [
              "download(\"download_feaeb4f4-a557-486c-81fa-4fe970633919\", \"HS-NOT_HS.csv\", 926629)"
            ]
          },
          "metadata": {}
        }
      ]
    }
  ]
}